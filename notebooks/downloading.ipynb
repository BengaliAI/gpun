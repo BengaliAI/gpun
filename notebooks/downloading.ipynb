{
 "cells": [
  {
   "cell_type": "code",
   "execution_count": null,
   "id": "404de168",
   "metadata": {},
   "outputs": [],
   "source": [
    "# imports\n",
    "from datasets import load_dataset\n",
    "import pandas as pd\n",
    "from tqdm.auto import tqdm\n",
    "import os "
   ]
  },
  {
   "cell_type": "code",
   "execution_count": null,
   "id": "05bf69a9",
   "metadata": {},
   "outputs": [],
   "source": [
    "# for dowloading and chunking\n",
    "for lang in [\"bn\",\"hi\",\"ml\",\"gu\",\"ta\",\"pa\",\"or\"]:\n",
    "    dataset = load_dataset(\"oscar\", f\"unshuffled_deduplicated_{lang}\")\n",
    "    dir=os.path.join(os.getcwd(),lang)\n",
    "    if not os.path.exists(dir):\n",
    "        os.mkdir(dir)\n",
    "    \n",
    "    max_len=50000\n",
    "    print(lang)\n",
    "    for _,idx in enumerate(tqdm(range(0,dataset[\"train\"].num_rows,max_len))):\n",
    "        df=pd.DataFrame({})\n",
    "        df[\"text\"]=dataset[\"train\"][\"text\"][idx:idx+max_len]\n",
    "        df.to_csv(os.path.join(dir,f\"{idx}.csv\"),index=False)\n",
    "\n"
   ]
  },
  {
   "cell_type": "code",
   "execution_count": null,
   "id": "8994fcbc",
   "metadata": {},
   "outputs": [],
   "source": []
  }
 ],
 "metadata": {
  "interpreter": {
   "hash": "83cb0fe33a0a67f9f877ffb776c4b7cce63e124f7ba47fe6878fb868bcc96314"
  },
  "kernelspec": {
   "display_name": "bangla",
   "language": "python",
   "name": "python3"
  },
  "language_info": {
   "codemirror_mode": {
    "name": "ipython",
    "version": 3
   },
   "file_extension": ".py",
   "mimetype": "text/x-python",
   "name": "python",
   "nbconvert_exporter": "python",
   "pygments_lexer": "ipython3",
   "version": "3.8.5"
  }
 },
 "nbformat": 4,
 "nbformat_minor": 5
}
